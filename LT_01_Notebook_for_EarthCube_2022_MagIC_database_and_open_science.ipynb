{
 "cells": [
  {
   "cell_type": "markdown",
   "metadata": {},
   "source": [
    "# LT_01_Notebook_for_EarthCube_MagIC_database_and_open_science.ipynb\n"
   ]
  },
  {
   "cell_type": "markdown",
   "metadata": {},
   "source": [
    "## Author(s)\n",
    "- Author1 = {\"name\": \"Lisa Tauxe\", \"affiliation\": \"Scripps Institution of Oceanography\", \"email\": \"ltauxe@ucsd.edu\", \"orcid\": \"0000-0002-4837-8200\"}\n",
    "- Author2 = {\"name\": \"Rupert Minnett\", \"affiliation\": \"Oregon State University\", \"email\": \"rminnett@earthref.org\", \"orcid\": \"0000-0002-9000-2100\"}\n",
    "- Author3 = {\"name\": \"Nick Jarboe\", \"affiliation\": \"Oregon State University\", \"email\": \"njarboe@earthref.org\", \"orcid\": \"0000-0003-1465-9394\"}\n",
    "- Author4 = {\"name\": \"Catherine Constable\", \"affiliation\": \"Scripps Institution of Oceanography\", \"email\": \"cconstable@ucsd.edu\", \"orcid\": \"0000-0003-4534-4977\"}\n",
    "- Author5 = {\"name\": \"Anthony Koppers\", \"affiliation\": \"Oregon State University, \"email\": \"Oregon State University, \"orcid\": \"0000-0002-8136-5372\"}\n",
    "\n"
   ]
  },
  {
   "cell_type": "markdown",
   "metadata": {},
   "source": [
    "## Purpose\n",
    "\n",
    "This notebook demonstrates how to access data in the MagIC open source database at http://earthref.org/MagIC\n",
    "The MagIC database (Magnetics Information Consortium) is a database that allows magnetic measurement data of rocks and archaeological artifacts to be Findable, Accessible, Interoperable and Re-usable. It is housed at https://earthref.org/MagIC. Data can be accessed either through a web browser or through API queries, the most direct of which connects a dataset to the DOI of the publication using Python code that is part of the PmagPy software package (https://github.org/PmagPy/PmagPy). Data can therefore be downloaded, unpacked, re-analyzed or imaged and then repackaged and uploaded back into a private workspace of the user. Jupyter notebooks can then be attached to a new publication and serve as important supplemental material for publication, making the data and the analysis thereof transparent and reproducible. We will illustrate the use of Jupyter notebooks in connection with FAIR data practices in the rock and paleomagnetic world.\n",
    "\n",
    "This notebook is developed for Python 3.7+, and can be explored through the jupyterhub site at https://jupyterhub.earthref.org after creating an account using your ORCID.  \n",
    "\n",
    "\n",
    "## Technical contributions\n",
    "\n",
    "- Paleomagnetic data published on the MagIC website and linked to a DOI can be downloaded from the database using an API. \n",
    "- The PmagPy python software package imported in the notebook and installed on the jupyterhub website can be used to unpack and re-analyze data in the database, demonstrating the benefit of FAIR principles. \n",
    "\n",
    "\n",
    "## Methodology\n",
    "- install useful Python modules\n",
    "- install the PmagPy software package\n",
    "- download a dataset from MagIC\n",
    "- re-analyze the data using PmagPy plotting and analysis functions\n",
    "\n",
    "\n",
    "## Results\n",
    "This notebook illustrates how open source databases can be accessed and used to further the goals of open science. \n",
    "\n",
    "## Funding\n",
    "Include references to awards that supported this research. Add as many award references as you need.\n",
    "\n",
    "- Award1 = {\"agency\": \"US National Science Foundation\", \"award_code\": \"1822336\", \"award_URL\": \"https://www.nsf.gov/awardsearch/showAward?AWD_ID=1822336\"}\n",
    "- Award1 = {\"agency\": \"US National Science Foundation\", \"award_code\": \"2126298\", \"award_URL\": \"https://www.nsf.gov/awardsearch/showAward?AWD_ID=2126298\"}\n",
    "## Keywords\n",
    "\n",
    "keywords=[\"FAIR\", \"Open Science\", \"MagIC database\", \"PmagPy software package\", \"paleomagnetism\"]\n",
    "\n",
    "## Citation\n",
    " Tauxe et al., 2022,  EarthCube Notebook for 2022 meeting. Accessed XX/XX/XXXX at https://github.com/PmagPy/Earthcube-notebooks\n",
    "\n",
    "\n",
    "## Acknowledgements \n",
    "\n",
    "We thank  members of the MagIC/FIESTA database team Nick Swanson-Hysell and Christeanne Santos for help in maintaining the PmagPy software package.  \n",
    "\n",
    "The template is licensed under a <a href=\"http://creativecommons.org/licenses/by/4.0/\">Creative Commons Attribution 4.0 International License.</a>"
   ]
  },
  {
   "cell_type": "markdown",
   "metadata": {},
   "source": [
    "# Setup\n",
    "\n",
    "## Access of the notebook:\n",
    "\n",
    "This notebook can be run either using Binder on github, through the earthref jupyterhub site, or on a local desktop.  \n",
    "\n",
    "- github:  Go to https://github.com/PmagPy/Earthcube-notebooks and click on LT01_Notebook_for_EarthCube_MagIC_database_and_open_science.ipynb.  Follow the instructions.  \n",
    "\n",
    "- Go to the jupyter-hub website at https://jupyterhub.earthref.org/ to run this online.  You will have to log in to the earthref website with your ORCID, but then you will have a workspace to use this and the other PmagPy jupyter notebooks.\n",
    "\n",
    "- Alternatively, you can  put this notebook in a working directory on your own laptop.  You would then have to install Python and the  PmagPy software package on your computer (if you have not already done so).  The instructions for that are here: https://earthref.org/PmagPy/cookbook/.  Follow  the instructions for  \"Full PmagPy install and update\" through section 1.4 (Quickstart with PmagPy notebooks).  This notebook is in  the collection of PmagPy notebooks. \n",
    "\n",
    "- Click on the cell below and then click on 'Run' from the menu above to import the desired functionality\n",
    "\n",
    "\n"
   ]
  },
  {
   "cell_type": "markdown",
   "metadata": {},
   "source": [
    "\n",
    "\n",
    "## Library import\n",
    "Import all the required Python libraries.\n",
    "\n",
    "\n"
   ]
  },
  {
   "cell_type": "code",
   "execution_count": 1,
   "metadata": {},
   "outputs": [],
   "source": [
    "# This allows you to make matplotlib plots inside the notebook\n",
    "%matplotlib inline\n",
    "\n",
    "# Import packages\n",
    "import matplotlib.pyplot as plt # our plotting buddy\n",
    "import numpy as np # the fabulous NumPy package\n",
    "import pandas as pd # and  Pandas for data wrangling\n",
    "import os # some useful operating system functions\n",
    "from importlib import reload # for reloading module if they get changed after initial import\n",
    "from IPython.display import Image\n",
    "import imageio # for making animations"
   ]
  },
  {
   "cell_type": "markdown",
   "metadata": {},
   "source": [
    "## Local library import\n",
    "\n",
    "- import the special PmagPy and mapping modules\n",
    "- create a directory for use in this notebook"
   ]
  },
  {
   "cell_type": "code",
   "execution_count": 2,
   "metadata": {},
   "outputs": [
    {
     "name": "stdout",
     "output_type": "stream",
     "text": [
      "-W- cartopy is not installed\n",
      "    If you want to make maps, install using conda:\n",
      "    conda install cartopy\n",
      "-W- You haven't installed a module for plotting maps (cartopy or Basemap)\n",
      "    Recommended: install cartopy.  With conda:\n",
      "    conda install cartopy\n",
      "    For more information, see http://earthref.org/PmagPy/Cookbook#getting_python\n"
     ]
    }
   ],
   "source": [
    "# Import PmagPy modules\n",
    "import pmagpy.pmag as pmag\n",
    "import pmagpy.pmagplotlib as pmagplotlib\n",
    "import pmagpy.ipmag as ipmag\n",
    "\n",
    "dirs=os.listdir() # get a list of directories in this one\n",
    "if 'MagIC_for_earthcube' not in dirs:\n",
    "    os.mkdir(\"MagIC_for_earthcube\")"
   ]
  },
  {
   "cell_type": "markdown",
   "metadata": {},
   "source": [
    "# Parameter definitions\n",
    "\n",
    "-after installation of PmagPy software, set up the directory structure for this notebook\n",
    "\n",
    "- Define path, desired DOI for downloading data from MagIC and a placeholder filename. \n"
   ]
  },
  {
   "cell_type": "code",
   "execution_count": 3,
   "metadata": {},
   "outputs": [],
   "source": [
    "dir_path='MagIC_for_earthcube' # set the path to the working directory\n",
    "reference_doi='10.1029/2019GC008479' # Behar et al. (2019)\n",
    "magic_contribution='magic_contribution.txt' # temporary name for contribution prior to unpacking"
   ]
  },
  {
   "cell_type": "markdown",
   "metadata": {},
   "source": [
    "\n",
    "# Data import\n",
    "Retrieve all the required data for the analysis.\n",
    "\n",
    "We will be using the data from this reference: \n",
    "\n",
    "Behar, N., Shaar, R., Tauxe, L., Asefaw, H., Ebert, Y., Heimann, A., Koppers, A.A.P., and Ron, H., Paleomagnetic study of the Plio-Pleistocene Golan Heights volcanic field, Israel: confirmation of the GAD field hypothesis,  Geophys., Geochem. Geosyst., 20,  doi: 10.1029/2019GC008479, 2019. \n",
    "\n",
    "Steps for data import:\n",
    "- download the data from the database using the reference DOI\n",
    "- move the data to the directory\n",
    "- unpack the data into MagIC formatted tab delimited files. \n",
    "\n",
    "For help on all functions use:\n",
    "help(ModuleName.FunctionName)\n",
    "\n",
    "example:\n",
    "\n",
    "help(ipmag.download_magic_from_doi)\n"
   ]
  },
  {
   "cell_type": "code",
   "execution_count": 4,
   "metadata": {},
   "outputs": [
    {
     "name": "stdout",
     "output_type": "stream",
     "text": [
      "Help on function download_magic_from_doi in module pmagpy.ipmag:\n",
      "\n",
      "download_magic_from_doi(doi)\n",
      "    Download a public contribution matching the provided DOI\n",
      "    from earthref.org/MagIC.\n",
      "    \n",
      "    Parameters\n",
      "    ----------\n",
      "    doi : str\n",
      "        DOI for a MagIC\n",
      "    \n",
      "    Returns\n",
      "    ---------\n",
      "    result : bool\n",
      "    message : str\n",
      "        Error message if download didn't succeed\n",
      "\n"
     ]
    }
   ],
   "source": [
    "help(ipmag.download_magic_from_doi)"
   ]
  },
  {
   "cell_type": "code",
   "execution_count": 5,
   "metadata": {},
   "outputs": [
    {
     "name": "stdout",
     "output_type": "stream",
     "text": [
      "16961/magic_contribution_16961.txt extracted to magic_contribution.txt \n",
      "\n",
      "1  records written to file  c:\\Users\\rminn\\Git\\rminnett\\binder-test\\MagIC_for_earthcube\\contribution.txt\n",
      "1  records written to file  c:\\Users\\rminn\\Git\\rminnett\\binder-test\\MagIC_for_earthcube\\locations.txt\n",
      "91  records written to file  c:\\Users\\rminn\\Git\\rminnett\\binder-test\\MagIC_for_earthcube\\sites.txt\n",
      "611  records written to file  c:\\Users\\rminn\\Git\\rminnett\\binder-test\\MagIC_for_earthcube\\samples.txt\n",
      "676  records written to file  c:\\Users\\rminn\\Git\\rminnett\\binder-test\\MagIC_for_earthcube\\specimens.txt\n",
      "6297  records written to file  c:\\Users\\rminn\\Git\\rminnett\\binder-test\\MagIC_for_earthcube\\measurements.txt\n",
      "2  records written to file  c:\\Users\\rminn\\Git\\rminnett\\binder-test\\MagIC_for_earthcube\\criteria.txt\n",
      "91  records written to file  c:\\Users\\rminn\\Git\\rminnett\\binder-test\\MagIC_for_earthcube\\ages.txt\n"
     ]
    },
    {
     "data": {
      "text/plain": [
       "True"
      ]
     },
     "execution_count": 5,
     "metadata": {},
     "output_type": "execute_result"
    }
   ],
   "source": [
    "ipmag.download_magic_from_doi(reference_doi)\n",
    "os.rename(magic_contribution, dir_path+'/'+magic_contribution)\n",
    "ipmag.download_magic(magic_contribution,dir_path=dir_path,print_progress=False)"
   ]
  },
  {
   "cell_type": "markdown",
   "metadata": {},
   "source": [
    "# Data processing and analysis\n",
    "\n",
    "We will look at two examples of reuse of the data from our study.  The first will make an equal area projection of all the directions found in the study and the second will look at the data after transformation to virtual geomagnetic pole positions.     \n",
    "\n",
    "For more information on Paleomagnetism, check out the open source textbook hosted by MagIC at: \n",
    "https://earthref.org/MagIC/books/Tauxe/Essentials/\n",
    "\n",
    "For details about equal area projections, see: https://earthref.org/MagIC/books/Tauxe/Essentials/#x1-227000B\n",
    "\n",
    "For details about virtual geomagnetic poles, see: https://earthref.org/MagIC/books/Tauxe/Essentials/#x1-200002.4.2\n",
    "\n"
   ]
  },
  {
   "cell_type": "markdown",
   "metadata": {},
   "source": [
    "### MagIC formatted files\n",
    "\n",
    "The Magnetics Information Consortium (MagIC), hosted at http://earthref.org/MagIC is a database that serves as a Findable, Accessible, Interoperable, Reusable (FAIR) archive for paleomagnetic and rock magnetic data. Its data model is fully described here: [https://www2.earthref.org/MagIC/data-models/3.0](https://www2.earthref.org/MagIC/data-models/3.0). Each contribution is associated with a publication via the DOI.  There are nine data tables:\n",
    "\n",
    "- contribution: metadata of the associated publication.\n",
    "- locations: metadata for locations, which are groups of sites (e.g., stratigraphic section, region, etc.)\n",
    "- sites: metadata and derived data at the site level (units with a common expectation)\n",
    "- samples: metadata and derived data at the sample level.\n",
    "- specimens: metadata and derived data at the specimen level.\n",
    "- criteria: criteria by which data are deemed acceptable\n",
    "- ages: ages and metadata for sites/samples/specimens\n",
    "- images: associated images and plots.  \n",
    "\n",
    "\n",
    "\n",
    "MagIC .txt files all have  the delimiter (tab) and the type of table in the first line and the column headers in the second line.  \n",
    "\n",
    "To read in the site level data into a pandas dataframe and look at the first few lines, use the following syntax:\n",
    "\n"
   ]
  },
  {
   "cell_type": "code",
   "execution_count": 6,
   "metadata": {},
   "outputs": [
    {
     "data": {
      "text/html": [
       "<div>\n",
       "<style scoped>\n",
       "    .dataframe tbody tr th:only-of-type {\n",
       "        vertical-align: middle;\n",
       "    }\n",
       "\n",
       "    .dataframe tbody tr th {\n",
       "        vertical-align: top;\n",
       "    }\n",
       "\n",
       "    .dataframe thead th {\n",
       "        text-align: right;\n",
       "    }\n",
       "</style>\n",
       "<table border=\"1\" class=\"dataframe\">\n",
       "  <thead>\n",
       "    <tr style=\"text-align: right;\">\n",
       "      <th></th>\n",
       "      <th>age</th>\n",
       "      <th>age_high</th>\n",
       "      <th>age_low</th>\n",
       "      <th>age_unit</th>\n",
       "      <th>citations</th>\n",
       "      <th>criteria</th>\n",
       "      <th>dir_alpha95</th>\n",
       "      <th>dir_comp_name</th>\n",
       "      <th>dir_dec</th>\n",
       "      <th>dir_inc</th>\n",
       "      <th>...</th>\n",
       "      <th>result_quality</th>\n",
       "      <th>result_type</th>\n",
       "      <th>samples</th>\n",
       "      <th>site</th>\n",
       "      <th>software_packages</th>\n",
       "      <th>specimens</th>\n",
       "      <th>vgp_dm</th>\n",
       "      <th>vgp_dp</th>\n",
       "      <th>vgp_lat</th>\n",
       "      <th>vgp_lon</th>\n",
       "    </tr>\n",
       "  </thead>\n",
       "  <tbody>\n",
       "    <tr>\n",
       "      <th>0</th>\n",
       "      <td>0.6798</td>\n",
       "      <td>0.6798</td>\n",
       "      <td>0.6798</td>\n",
       "      <td>Ma</td>\n",
       "      <td>This study</td>\n",
       "      <td>ACCEPT</td>\n",
       "      <td>4.7</td>\n",
       "      <td>Fit 1</td>\n",
       "      <td>350.0</td>\n",
       "      <td>37.2</td>\n",
       "      <td>...</td>\n",
       "      <td>g</td>\n",
       "      <td>i</td>\n",
       "      <td>GH01A:GH01B:GH01C:GH01D:GH01H:GH01M</td>\n",
       "      <td>GH01</td>\n",
       "      <td>pmagpy-3.16.0: demag_gui.v.3.0</td>\n",
       "      <td>GH01A1:GH01B1:GH01B2:GH01C1:GH01D1:GH01H1:GH01M1</td>\n",
       "      <td>5.5</td>\n",
       "      <td>3.2</td>\n",
       "      <td>74.8</td>\n",
       "      <td>254.1</td>\n",
       "    </tr>\n",
       "    <tr>\n",
       "      <th>1</th>\n",
       "      <td>1.3500</td>\n",
       "      <td>2.6000</td>\n",
       "      <td>0.1000</td>\n",
       "      <td>Ma</td>\n",
       "      <td>This study</td>\n",
       "      <td>ACCEPT</td>\n",
       "      <td>2.3</td>\n",
       "      <td>Fit 1</td>\n",
       "      <td>349.7</td>\n",
       "      <td>37.2</td>\n",
       "      <td>...</td>\n",
       "      <td>g</td>\n",
       "      <td>i</td>\n",
       "      <td>GH02A:GH02C:GH02D:GH02E:GH02F:GH02G</td>\n",
       "      <td>GH02</td>\n",
       "      <td>pmagpy-3.16.0: demag_gui.v.3.0</td>\n",
       "      <td>GH02A1:GH02C1:GH02D1:GH02E1:GH02E2:GH02F1:GH02...</td>\n",
       "      <td>2.7</td>\n",
       "      <td>1.6</td>\n",
       "      <td>74.7</td>\n",
       "      <td>255.0</td>\n",
       "    </tr>\n",
       "    <tr>\n",
       "      <th>2</th>\n",
       "      <td>1.1115</td>\n",
       "      <td>1.1115</td>\n",
       "      <td>1.1115</td>\n",
       "      <td>Ma</td>\n",
       "      <td>This study</td>\n",
       "      <td>ACCEPT</td>\n",
       "      <td>2.3</td>\n",
       "      <td>Fit 1</td>\n",
       "      <td>157.0</td>\n",
       "      <td>-56.9</td>\n",
       "      <td>...</td>\n",
       "      <td>g</td>\n",
       "      <td>i</td>\n",
       "      <td>GH03A:GH03B:GH03C:GH03D:GH03E:GH03G:GH03H</td>\n",
       "      <td>GH03</td>\n",
       "      <td>pmagpy-3.16.0: demag_gui.v.3.0</td>\n",
       "      <td>GH03A1:GH03B1:GH03C1:GH03C2:GH03D1:GH03E1:GH03...</td>\n",
       "      <td>3.3</td>\n",
       "      <td>2.4</td>\n",
       "      <td>-70.8</td>\n",
       "      <td>145.5</td>\n",
       "    </tr>\n",
       "    <tr>\n",
       "      <th>3</th>\n",
       "      <td>1.3500</td>\n",
       "      <td>2.6000</td>\n",
       "      <td>0.1000</td>\n",
       "      <td>Ma</td>\n",
       "      <td>This study</td>\n",
       "      <td>ACCEPT</td>\n",
       "      <td>2.1</td>\n",
       "      <td>Fit 1</td>\n",
       "      <td>175.1</td>\n",
       "      <td>-58.0</td>\n",
       "      <td>...</td>\n",
       "      <td>g</td>\n",
       "      <td>i</td>\n",
       "      <td>GH04A:GH04B:GH04C:GH04D:GH04E:GH04F:GH04G:GH04H</td>\n",
       "      <td>GH04</td>\n",
       "      <td>pmagpy-3.16.0: demag_gui.v.3.0</td>\n",
       "      <td>GH04A1:GH04B1:GH04C1:GH04D1:GH04E1:GH04E2:GH04...</td>\n",
       "      <td>3.1</td>\n",
       "      <td>2.3</td>\n",
       "      <td>-83.1</td>\n",
       "      <td>181.8</td>\n",
       "    </tr>\n",
       "    <tr>\n",
       "      <th>4</th>\n",
       "      <td>1.1196</td>\n",
       "      <td>1.1196</td>\n",
       "      <td>1.1196</td>\n",
       "      <td>Ma</td>\n",
       "      <td>This study</td>\n",
       "      <td>ACCEPT</td>\n",
       "      <td>2.8</td>\n",
       "      <td>Fit 1</td>\n",
       "      <td>181.0</td>\n",
       "      <td>-56.8</td>\n",
       "      <td>...</td>\n",
       "      <td>g</td>\n",
       "      <td>i</td>\n",
       "      <td>GH05A:GH05B:GH05D:GH05G:GH05H:GH05I:GH05K:GH05L</td>\n",
       "      <td>GH05</td>\n",
       "      <td>pmagpy-3.16.0: demag_gui.v.3.0</td>\n",
       "      <td>GH05A1:GH05B1:GH05D1:GH05G1:GH05H1:GH05H2:GH05...</td>\n",
       "      <td>4.1</td>\n",
       "      <td>2.9</td>\n",
       "      <td>-85.6</td>\n",
       "      <td>226.0</td>\n",
       "    </tr>\n",
       "  </tbody>\n",
       "</table>\n",
       "<p>5 rows × 35 columns</p>\n",
       "</div>"
      ],
      "text/plain": [
       "      age  age_high  age_low age_unit   citations criteria  dir_alpha95  \\\n",
       "0  0.6798    0.6798   0.6798       Ma  This study   ACCEPT          4.7   \n",
       "1  1.3500    2.6000   0.1000       Ma  This study   ACCEPT          2.3   \n",
       "2  1.1115    1.1115   1.1115       Ma  This study   ACCEPT          2.3   \n",
       "3  1.3500    2.6000   0.1000       Ma  This study   ACCEPT          2.1   \n",
       "4  1.1196    1.1196   1.1196       Ma  This study   ACCEPT          2.8   \n",
       "\n",
       "  dir_comp_name  dir_dec  dir_inc  ...  result_quality  result_type  \\\n",
       "0         Fit 1    350.0     37.2  ...               g            i   \n",
       "1         Fit 1    349.7     37.2  ...               g            i   \n",
       "2         Fit 1    157.0    -56.9  ...               g            i   \n",
       "3         Fit 1    175.1    -58.0  ...               g            i   \n",
       "4         Fit 1    181.0    -56.8  ...               g            i   \n",
       "\n",
       "                                           samples  site  \\\n",
       "0              GH01A:GH01B:GH01C:GH01D:GH01H:GH01M  GH01   \n",
       "1              GH02A:GH02C:GH02D:GH02E:GH02F:GH02G  GH02   \n",
       "2        GH03A:GH03B:GH03C:GH03D:GH03E:GH03G:GH03H  GH03   \n",
       "3  GH04A:GH04B:GH04C:GH04D:GH04E:GH04F:GH04G:GH04H  GH04   \n",
       "4  GH05A:GH05B:GH05D:GH05G:GH05H:GH05I:GH05K:GH05L  GH05   \n",
       "\n",
       "                software_packages  \\\n",
       "0  pmagpy-3.16.0: demag_gui.v.3.0   \n",
       "1  pmagpy-3.16.0: demag_gui.v.3.0   \n",
       "2  pmagpy-3.16.0: demag_gui.v.3.0   \n",
       "3  pmagpy-3.16.0: demag_gui.v.3.0   \n",
       "4  pmagpy-3.16.0: demag_gui.v.3.0   \n",
       "\n",
       "                                           specimens  vgp_dm  vgp_dp vgp_lat  \\\n",
       "0   GH01A1:GH01B1:GH01B2:GH01C1:GH01D1:GH01H1:GH01M1     5.5     3.2    74.8   \n",
       "1  GH02A1:GH02C1:GH02D1:GH02E1:GH02E2:GH02F1:GH02...     2.7     1.6    74.7   \n",
       "2  GH03A1:GH03B1:GH03C1:GH03C2:GH03D1:GH03E1:GH03...     3.3     2.4   -70.8   \n",
       "3  GH04A1:GH04B1:GH04C1:GH04D1:GH04E1:GH04E2:GH04...     3.1     2.3   -83.1   \n",
       "4  GH05A1:GH05B1:GH05D1:GH05G1:GH05H1:GH05H2:GH05...     4.1     2.9   -85.6   \n",
       "\n",
       "  vgp_lon  \n",
       "0   254.1  \n",
       "1   255.0  \n",
       "2   145.5  \n",
       "3   181.8  \n",
       "4   226.0  \n",
       "\n",
       "[5 rows x 35 columns]"
      ]
     },
     "execution_count": 6,
     "metadata": {},
     "output_type": "execute_result"
    }
   ],
   "source": [
    "df=pd.read_csv(dir_path+'/sites.txt',sep='\\t',header=1)\n",
    "df.head()"
   ]
  },
  {
   "cell_type": "markdown",
   "metadata": {},
   "source": [
    "### Equal area projections of directional data.\n",
    "We will plot the Plio-Pleistocene magnetic field directional data in the Behar et al. (2019) paper in an equal area projection using the PmagPy function ipmag.eqarea_magic().  \n"
   ]
  },
  {
   "cell_type": "code",
   "execution_count": 7,
   "metadata": {},
   "outputs": [
    {
     "name": "stdout",
     "output_type": "stream",
     "text": [
      "Help on function eqarea_magic in module pmagpy.ipmag:\n",
      "\n",
      "eqarea_magic(in_file='sites.txt', dir_path='.', input_dir_path='', spec_file='specimens.txt', samp_file='samples.txt', site_file='sites.txt', loc_file='locations.txt', plot_by='all', crd='g', ignore_tilt=False, save_plots=True, fmt='svg', contour=False, color_map='coolwarm', plot_ell='', n_plots=5, interactive=False, contribution=None, source_table='sites', image_records=False)\n",
      "    makes equal area projections from declination/inclination data\n",
      "    \n",
      "    Parameters\n",
      "    ----------\n",
      "    in_file : str, default \"sites.txt\"\n",
      "    dir_path : str\n",
      "        output directory, default \".\"\n",
      "    input_dir_path : str\n",
      "        input file directory (if different from dir_path), default \"\"\n",
      "    spec_file : str\n",
      "        input specimen file name, default \"specimens.txt\"\n",
      "    samp_file: str\n",
      "        input sample file name, default \"samples.txt\"\n",
      "    site_file : str\n",
      "        input site file name, default \"sites.txt\"\n",
      "    loc_file : str\n",
      "        input location file name, default \"locations.txt\"\n",
      "    plot_by : str\n",
      "        [spc, sam, sit, loc, all] (specimen, sample, site, location, all), default \"all\"\n",
      "    crd : ['s','g','t'], coordinate system for plotting whereby:\n",
      "        s : specimen coordinates, aniso_tile_correction = -1\n",
      "        g : geographic coordinates, aniso_tile_correction = 0 (default)\n",
      "        t : tilt corrected coordinates, aniso_tile_correction = 100\n",
      "    ignore_tilt : bool\n",
      "        default False.  If True, data are unoriented (allows plotting of measurement dec/inc)\n",
      "    save_plots : bool\n",
      "        plot and save non-interactively, default True\n",
      "    fmt : str\n",
      "        [\"png\", \"svg\", \"pdf\", \"jpg\"], default \"svg\"\n",
      "    contour : bool\n",
      "        plot as color contour\n",
      "    colormap : str\n",
      "        color map for contour plotting, default \"coolwarm\"\n",
      "        see cartopy documentation for more options\n",
      "    plot_ell : str\n",
      "        [F,K,B,Be,Bv] plot Fisher, Kent, Bingham, Bootstrap ellipses or Bootstrap eigenvectors\n",
      "        default \"\" plots none\n",
      "    n_plots : int\n",
      "        maximum number of plots to make, default 5\n",
      "        if you want to make all possible plots, specify \"all\"\n",
      "    interactive : bool, default False\n",
      "        interactively plot and display for each specimen\n",
      "        (this is best used on the command line or in the Python interpreter)\n",
      "    contribution : cb.Contribution, default None\n",
      "        if provided, use Contribution object instead of reading in\n",
      "        data from files\n",
      "    source_table : table to get plot data from (only needed with contribution argument)\n",
      "        for example, you could specify source_table=\"measurements\" and plot_by=\"sites\"\n",
      "        to plot measurement data by site.\n",
      "        default \"sites\"\n",
      "    image_records : generate and return a record for each image in a list of dicts\n",
      "        which can be ingested by pmag.magic_write\n",
      "        bool, default False\n",
      "    \n",
      "    \n",
      "    Returns\n",
      "    ---------\n",
      "    if image_records == False:\n",
      "        type - Tuple : (True or False indicating if conversion was successful, file name(s) written)\n",
      "    if image_records == True:\n",
      "       Tuple : (True or False indicating if conversion was successful, output file name written, list of image recs)\n",
      "\n"
     ]
    }
   ],
   "source": [
    "help(ipmag.eqarea_magic)"
   ]
  },
  {
   "cell_type": "markdown",
   "metadata": {},
   "source": [
    "### essential parameters:\n",
    "- dir_path was set previously and all other parameters are the defaults, so we can just run this program. \n"
   ]
  },
  {
   "cell_type": "code",
   "execution_count": 8,
   "metadata": {},
   "outputs": [
    {
     "ename": "NonGuiException",
     "evalue": "Matplotlib is currently using module://matplotlib_inline.backend_inline, which is a non-GUI backend, so cannot show the figure.",
     "output_type": "error",
     "traceback": [
      "\u001b[1;31m---------------------------------------------------------------------------\u001b[0m",
      "\u001b[1;31mNonGuiException\u001b[0m                           Traceback (most recent call last)",
      "\u001b[1;32m~\\AppData\\Local\\Temp\\ipykernel_22516\\1381389407.py\u001b[0m in \u001b[0;36m<module>\u001b[1;34m\u001b[0m\n\u001b[1;32m----> 1\u001b[1;33m \u001b[0mipmag\u001b[0m\u001b[1;33m.\u001b[0m\u001b[0meqarea_magic\u001b[0m\u001b[1;33m(\u001b[0m\u001b[0mdir_path\u001b[0m\u001b[1;33m=\u001b[0m\u001b[0mdir_path\u001b[0m\u001b[1;33m,\u001b[0m\u001b[0msave_plots\u001b[0m\u001b[1;33m=\u001b[0m\u001b[1;32mFalse\u001b[0m\u001b[1;33m)\u001b[0m\u001b[1;33m\u001b[0m\u001b[1;33m\u001b[0m\u001b[0m\n\u001b[0m",
      "\u001b[1;32mc:\\Users\\rminn\\Git\\rminnett\\binder-test\\pmagpy\\ipmag.py\u001b[0m in \u001b[0;36meqarea_magic\u001b[1;34m(in_file, dir_path, input_dir_path, spec_file, samp_file, site_file, loc_file, plot_by, crd, ignore_tilt, save_plots, fmt, contour, color_map, plot_ell, n_plots, interactive, contribution, source_table, image_records)\u001b[0m\n\u001b[0;32m  12752\u001b[0m     \u001b[0mFIG\u001b[0m \u001b[1;33m=\u001b[0m \u001b[1;33m{\u001b[0m\u001b[1;33m}\u001b[0m  \u001b[1;31m# plot dictionary\u001b[0m\u001b[1;33m\u001b[0m\u001b[1;33m\u001b[0m\u001b[0m\n\u001b[0;32m  12753\u001b[0m     \u001b[0mFIG\u001b[0m\u001b[1;33m[\u001b[0m\u001b[1;34m'eqarea'\u001b[0m\u001b[1;33m]\u001b[0m \u001b[1;33m=\u001b[0m \u001b[1;36m1\u001b[0m  \u001b[1;31m# eqarea is figure 1\u001b[0m\u001b[1;33m\u001b[0m\u001b[1;33m\u001b[0m\u001b[0m\n\u001b[1;32m> 12754\u001b[1;33m     \u001b[0mpmagplotlib\u001b[0m\u001b[1;33m.\u001b[0m\u001b[0mplot_init\u001b[0m\u001b[1;33m(\u001b[0m\u001b[0mFIG\u001b[0m\u001b[1;33m[\u001b[0m\u001b[1;34m'eqarea'\u001b[0m\u001b[1;33m]\u001b[0m\u001b[1;33m,\u001b[0m \u001b[1;36m5\u001b[0m\u001b[1;33m,\u001b[0m \u001b[1;36m5\u001b[0m\u001b[1;33m)\u001b[0m\u001b[1;33m\u001b[0m\u001b[1;33m\u001b[0m\u001b[0m\n\u001b[0m\u001b[0;32m  12755\u001b[0m     \u001b[1;31m# get coordinate system\u001b[0m\u001b[1;33m\u001b[0m\u001b[1;33m\u001b[0m\u001b[1;33m\u001b[0m\u001b[0m\n\u001b[0;32m  12756\u001b[0m     \u001b[1;32mif\u001b[0m \u001b[0mcrd\u001b[0m \u001b[1;33m==\u001b[0m \u001b[1;34m\"s\"\u001b[0m\u001b[1;33m:\u001b[0m\u001b[1;33m\u001b[0m\u001b[1;33m\u001b[0m\u001b[0m\n",
      "\u001b[1;32mc:\\Users\\rminn\\Git\\rminnett\\binder-test\\pmagpy\\pmagplotlib.py\u001b[0m in \u001b[0;36mplot_init\u001b[1;34m(fignum, w, h)\u001b[0m\n\u001b[0;32m    139\u001b[0m     \u001b[0mfig\u001b[0m \u001b[1;33m=\u001b[0m \u001b[0mplt\u001b[0m\u001b[1;33m.\u001b[0m\u001b[0mfigure\u001b[0m\u001b[1;33m(\u001b[0m\u001b[0mnum\u001b[0m\u001b[1;33m=\u001b[0m\u001b[0mfignum\u001b[0m\u001b[1;33m,\u001b[0m \u001b[0mfigsize\u001b[0m\u001b[1;33m=\u001b[0m\u001b[1;33m(\u001b[0m\u001b[0mw\u001b[0m\u001b[1;33m,\u001b[0m \u001b[0mh\u001b[0m\u001b[1;33m)\u001b[0m\u001b[1;33m,\u001b[0m \u001b[0mdpi\u001b[0m\u001b[1;33m=\u001b[0m\u001b[0mdpi\u001b[0m\u001b[1;33m)\u001b[0m\u001b[1;33m\u001b[0m\u001b[1;33m\u001b[0m\u001b[0m\n\u001b[0;32m    140\u001b[0m     \u001b[1;32mif\u001b[0m \u001b[1;33m(\u001b[0m\u001b[1;32mnot\u001b[0m \u001b[0misServer\u001b[0m\u001b[1;33m)\u001b[0m \u001b[1;32mand\u001b[0m \u001b[1;33m(\u001b[0m\u001b[1;32mnot\u001b[0m \u001b[0mset_env\u001b[0m\u001b[1;33m.\u001b[0m\u001b[0mIS_NOTEBOOK\u001b[0m\u001b[1;33m)\u001b[0m\u001b[1;33m:\u001b[0m\u001b[1;33m\u001b[0m\u001b[1;33m\u001b[0m\u001b[0m\n\u001b[1;32m--> 141\u001b[1;33m         \u001b[0mplt\u001b[0m\u001b[1;33m.\u001b[0m\u001b[0mget_current_fig_manager\u001b[0m\u001b[1;33m(\u001b[0m\u001b[1;33m)\u001b[0m\u001b[1;33m.\u001b[0m\u001b[0mshow\u001b[0m\u001b[1;33m(\u001b[0m\u001b[1;33m)\u001b[0m\u001b[1;33m\u001b[0m\u001b[1;33m\u001b[0m\u001b[0m\n\u001b[0m\u001b[0;32m    142\u001b[0m         \u001b[1;31m# plt.get_current_fig_manager().window.wm_geometry('+%d+%d' %\u001b[0m\u001b[1;33m\u001b[0m\u001b[1;33m\u001b[0m\u001b[1;33m\u001b[0m\u001b[0m\n\u001b[0;32m    143\u001b[0m         \u001b[1;31m# (fig_x_pos,fig_y_pos)) # this only works with matplotlib.use('TKAgg')\u001b[0m\u001b[1;33m\u001b[0m\u001b[1;33m\u001b[0m\u001b[1;33m\u001b[0m\u001b[0m\n",
      "\u001b[1;32mc:\\Users\\rminn\\Git\\rminnett\\binder-test\\.venv\\lib\\site-packages\\matplotlib\\backend_bases.py\u001b[0m in \u001b[0;36mshow\u001b[1;34m(self)\u001b[0m\n\u001b[0;32m   2814\u001b[0m             \u001b[1;32mreturn\u001b[0m\u001b[1;33m\u001b[0m\u001b[1;33m\u001b[0m\u001b[0m\n\u001b[0;32m   2815\u001b[0m         raise NonGuiException(\n\u001b[1;32m-> 2816\u001b[1;33m             \u001b[1;34mf\"Matplotlib is currently using {get_backend()}, which is a \"\u001b[0m\u001b[1;33m\u001b[0m\u001b[1;33m\u001b[0m\u001b[0m\n\u001b[0m\u001b[0;32m   2817\u001b[0m             f\"non-GUI backend, so cannot show the figure.\")\n\u001b[0;32m   2818\u001b[0m \u001b[1;33m\u001b[0m\u001b[0m\n",
      "\u001b[1;31mNonGuiException\u001b[0m: Matplotlib is currently using module://matplotlib_inline.backend_inline, which is a non-GUI backend, so cannot show the figure."
     ]
    },
    {
     "data": {
      "text/plain": [
       "<Figure size 400x400 with 0 Axes>"
      ]
     },
     "metadata": {},
     "output_type": "display_data"
    }
   ],
   "source": [
    "ipmag.eqarea_magic(dir_path=dir_path,save_plots=False)"
   ]
  },
  {
   "cell_type": "markdown",
   "metadata": {},
   "source": [
    "### Saving plots\n",
    "- to save the plots, set save_plots to True and your prefered format. \n",
    "- you can download the resulting png file (or find it in your project directory if running locally).  "
   ]
  },
  {
   "cell_type": "code",
   "execution_count": null,
   "metadata": {},
   "outputs": [],
   "source": [
    "ipmag.eqarea_magic(dir_path=dir_path,save_plots=True,fmt='png')"
   ]
  },
  {
   "cell_type": "markdown",
   "metadata": {},
   "source": [
    "### Map of equivalent VGPs \n",
    "We will plot the directional data from the last example after transformation to virtual geomagnetic poles (VGPs), using the PmagPy function ipmag.vgpmap_magic().  \n",
    "\n"
   ]
  },
  {
   "cell_type": "code",
   "execution_count": null,
   "metadata": {},
   "outputs": [],
   "source": [
    "# get help message for vgpmap_magic\n",
    "help(ipmag.vgpmap_magic)"
   ]
  },
  {
   "cell_type": "code",
   "execution_count": null,
   "metadata": {},
   "outputs": [],
   "source": [
    "reload(ipmag)\n",
    "ipmag.vgpmap_magic(dir_path=dir_path,size=50,flip=False,save_plots=False,lat_0=60,rsym='b^',rsize=50,fmt='png')"
   ]
  },
  {
   "cell_type": "markdown",
   "metadata": {},
   "source": [
    "# Next steps:\n",
    "- Try out other Jupyter notebooks within the PmagPy distribution to learn the full functionality of the package\n",
    "- Become a PmagPy developer! "
   ]
  },
  {
   "cell_type": "markdown",
   "metadata": {},
   "source": [
    "# References\n",
    "List relevant references.\n",
    "\n",
    "1. Behar, N., Shaar, R., Tauxe, L., Asefaw, H., Ebert, Y., Heimann, A., Koppers, A.A.P., and Ron, H., Paleomagnetic study of the Plio-Pleistocene Golan Heights volcanic field, Israel: confirmation of the GAD field hypothesis,  Geophys., Geochem. Geosyst., 20,  doi: 10.1029/2019GC008479, 2019. \n",
    "\n",
    "\n",
    "2. MagIC website:  https://www2.earthref.org/MagIC\n",
    "\n",
    "3. Textbook for paleomagnetism: https://earthref.org/MagIC/books/Tauxe/Essentials/\n",
    "\n",
    "4. PmagPy installation instructions:  https://earthref.org/PmagPy/cookbook/\n",
    "\n",
    "5. Course in Python for Earth Science Students: https://github.com/ltauxe/Python-for-Earth-Science-Students\n",
    "\n",
    "6. PmagPy citation:  Tauxe, L., R. Shaar, L. Jonestrask, N. L. Swanson-Hysell, R. Minnett, A. A. P. Koppers, C. G. Constable, N. Jarboe, K. Gaastra, and L. Fairchild (2016), PmagPy: Software package for paleomagnetic data analysis and a bridge to the Magnetics Information Consortium (MagIC) Database, Geochem. Geophys. Geosyst., 17, https://doi.org/10.1002/2016GC006307.\n",
    "\n",
    "\n"
   ]
  }
 ],
 "metadata": {
  "kernelspec": {
   "display_name": "Python 3 (ipykernel)",
   "language": "python",
   "name": "python3"
  },
  "language_info": {
   "codemirror_mode": {
    "name": "ipython",
    "version": 3
   },
   "file_extension": ".py",
   "mimetype": "text/x-python",
   "name": "python",
   "nbconvert_exporter": "python",
   "pygments_lexer": "ipython3",
   "version": "3.7.9"
  },
  "toc": {
   "base_numbering": 1,
   "nav_menu": {},
   "number_sections": true,
   "sideBar": true,
   "skip_h1_title": false,
   "title_cell": "Table of Contents",
   "title_sidebar": "Contents",
   "toc_cell": true,
   "toc_position": {
    "height": "calc(100% - 180px)",
    "left": "10px",
    "top": "150px",
    "width": "248.182px"
   },
   "toc_section_display": true,
   "toc_window_display": true
  }
 },
 "nbformat": 4,
 "nbformat_minor": 4
}
